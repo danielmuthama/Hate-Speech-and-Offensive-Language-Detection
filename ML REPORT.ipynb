{
 "cells": [
  {
   "cell_type": "markdown",
   "id": "61a8f191",
   "metadata": {},
   "source": [
    "\n",
    "\n",
    "## Analysis and Classification of Haters Speech and Offensive Language Twitter Dataset\n",
    "\n",
    "\n",
    "\n",
    "\n",
    "\n",
    "\n",
    "\n",
    "\n",
    "\n",
    "#### Name\n",
    "#### Institution\n",
    "#### Professor\n",
    "#### Date\n",
    "\n",
    "\n"
   ]
  },
  {
   "cell_type": "markdown",
   "id": "5c61c922",
   "metadata": {},
   "source": [
    "### Background"
   ]
  },
  {
   "cell_type": "markdown",
   "id": "e45929df",
   "metadata": {},
   "source": [
    "Since the dawn of civilization, our technology has come a long way. Now anyone with a smartphone device and an internet connection can connect and communicate freely. This is very positive but having many people accessing the social world leads to mixed opinions and words thrown at each other. It is easier to type something cruel than to say it to someone's face. This leads to people commenting or talking negatively with cruel comments, harsh words, racist comments, insulting expressions, and many more. This is called hate speech. The barrier that can divide people from expressing hatred through comments and texts can be hate speech or offensive language detectors and ban them.\n",
    "This is why we need to come up with hate speech detectors that can easily erase the hate speeches and make the social world a little bit cleaner."
   ]
  },
  {
   "cell_type": "markdown",
   "id": "df0d52ae",
   "metadata": {},
   "source": [
    "### Introduction"
   ]
  },
  {
   "cell_type": "markdown",
   "id": "4d45ea1f",
   "metadata": {},
   "source": [
    "Hate speech detection is an important tool for combating hate speech, particularly on social media. Several methods have been developed for the task, including a recent proliferation of machine-learning and deep-learning model-based approaches. Because hate speech data sets are rarely clean, they must be pre-processed before classification algorithms can detect hate speech. Different machine learning models have different strengths, making some better than others at certain tasks like detecting hate speech. Some models are more accurate than others in terms of efficiency. It is critical to employ various models and compare their performance in order to identify the best one for hate speech detection. Pre-training methods have grown in popularity in recent years, and it is important to test whether they work well with hate speech detection algorithms. It is also important to see how hate speech detection models can be used to address domain changes."
   ]
  },
  {
   "cell_type": "markdown",
   "id": "901ce55a",
   "metadata": {},
   "source": [
    "### Methodology"
   ]
  },
  {
   "cell_type": "markdown",
   "id": "e408d17d",
   "metadata": {},
   "source": [
    "#### Dataset Description:\n",
    "The ‘Hate speech and offensive language dataset’ is used for this project and over6000 rows from the dataset are used to train where 80% rows are\n",
    "labeled as training dataset and 20% rows are labeled as testing dataset. Each row in\n",
    "the dataset is labeled as hate speech and offensive language.\n",
    "#### Technolgies Used: \n",
    "Following libraries were be used for this project\n",
    "\n",
    "● Pandas - for reading the CSV file\n",
    "\n",
    "● Numpy- for arrays\n",
    "\n",
    "● Matplotlib - for graph plotting\n",
    "\n",
    "● Sklearn - for implementing machine learning models\n",
    "\n",
    "● Seaborn - for making statistical graphics\n",
    "\n",
    "● NLTK - for text data preprocessing"
   ]
  },
  {
   "cell_type": "markdown",
   "id": "4d65779d",
   "metadata": {},
   "source": [
    "### Project Overview"
   ]
  },
  {
   "cell_type": "markdown",
   "id": "f8897de9",
   "metadata": {},
   "source": [
    "Our project is a combination of several subtasks and processes. Starting with loading the dataset into the pandas dataframe, we first oversampled the dataset to combat discrimination among the different classes. Then we applied text preprocessing to get rid of unhelpful and noisy data. Moving on, we applied feature engineering to vectorize the raw text data. Following this, we split the dataset into train and test sets and fed the train data into our models. Finally, we ran accuracy metrics to measure and compare the performance of all three algorithms."
   ]
  },
  {
   "cell_type": "markdown",
   "id": "4e536d5b",
   "metadata": {},
   "source": [
    "### Models used:"
   ]
  },
  {
   "cell_type": "markdown",
   "id": "df53d001",
   "metadata": {},
   "source": [
    "After the completion of count vectorization using bag-of-words, our dataset is finally ready to train. In this project, we have used three classification algorithms to\n",
    "train over our dataset. The algorithms are as follows.\n",
    "1. Logistic Regression\n",
    "2. Decision Tree\n",
    "3. Ensemble Model - Algorithms used are: Xgboost Model, AdaBoost and Gradient Boosting Classifier Mode\n",
    "4. SVM"
   ]
  },
  {
   "cell_type": "markdown",
   "id": "a3bdd372",
   "metadata": {},
   "source": [
    "#### Results"
   ]
  },
  {
   "cell_type": "markdown",
   "id": "bfa002ce",
   "metadata": {},
   "source": [
    "### Accuracy Matrix"
   ]
  },
  {
   "cell_type": "markdown",
   "id": "78c76670",
   "metadata": {},
   "source": [
    "This section elaborates on the performance of the severals models we’ve used for text\n",
    "classification. From  first table it is evident that SVM has the best\n",
    "performance among the other models. The accuracy metrics we’ve taken are precision\n",
    "score, recall score, and f1 score. The precision score measures how accurately the\n",
    "model predicts the true positives. The recall score measures the model's ability to\n",
    "find the true positives among all the positive correct outputs. F1 score is a harmonic\n",
    "mean of the precision score and recall score. The results for the three algorithms\n",
    "are stored in Tables 1, 2, and 3.\n",
    "From Tables 1, 2, and 3. It is clearly seen that Logistic Regression and Decision Tree performed the worst\n",
    "among all the other three algorithms while SVM performed the best. For example,\n",
    "the precision scores for correctly predicting the true positives for “Hate Speech” for\n",
    "Logistic Regression, SVM, and Decision Tree are\n",
    "respectively 0.81, 0.91, and 0.81. The relatively bad performance of Decison Tree was due to\n",
    "the algorithm’s conditional independence of its features. The algorithm starts to\n",
    "show weakness as the number of features increases."
   ]
  },
  {
   "cell_type": "markdown",
   "id": "f22f5e65",
   "metadata": {},
   "source": [
    "##### Logistic Regression"
   ]
  },
  {
   "cell_type": "markdown",
   "id": "8f9cf7b7",
   "metadata": {},
   "source": [
    "              precision    recall  f1-score   support\n",
    "\n",
    "           0       0.61      0.86      0.71      3424\n",
    "           1       0.86      0.70      0.78      5896\n",
    "           2       0.95      0.90      0.93      5074\n",
    "\n",
    "    accuracy                           0.81     14394\n",
    "    macro avg         0.81       0.82       0.80       14394\n",
    "    weighted avg         0.84       0.81       0.81       14394\n",
    "\n"
   ]
  },
  {
   "cell_type": "markdown",
   "id": "66c630aa",
   "metadata": {},
   "source": [
    "#### SVM"
   ]
  },
  {
   "cell_type": "markdown",
   "id": "454dcf81",
   "metadata": {},
   "source": [
    "              precision    recall  f1-score   support\n",
    "\n",
    "           0       0.75      0.98      0.85      3663\n",
    "           1       0.97      0.80      0.88      5784\n",
    "           2       0.94      0.91      0.92      4947\n",
    "\n",
    "    accuracy                           0.88     14394\n",
    "    macro avg       0.88      0.90      0.88     14394\n",
    "    weighted avg       0.90      0.88      0.89     14394\n",
    "\n"
   ]
  },
  {
   "cell_type": "markdown",
   "id": "7eab1ad5",
   "metadata": {},
   "source": [
    "#### Decison Tree"
   ]
  },
  {
   "cell_type": "markdown",
   "id": "0c023867",
   "metadata": {},
   "source": [
    "              precision    recall  f1-score   support\n",
    "\n",
    "           0       0.63      0.87      0.73      3498\n",
    "           1       0.91      0.69      0.79      6299\n",
    "           2       0.88      0.92      0.90      4597\n",
    "\n",
    "    accuracy                           0.81     14394\n",
    "    macro avg       0.81      0.83      0.81     14394\n",
    "    weighted avg       0.83      0.81      0.81     14394\n",
    "\n"
   ]
  },
  {
   "cell_type": "markdown",
   "id": "9c225a2e",
   "metadata": {},
   "source": [
    "### Confusion Matrix"
   ]
  },
  {
   "cell_type": "markdown",
   "id": "a455f377",
   "metadata": {},
   "source": [
    "#### Logistic Regression"
   ]
  },
  {
   "cell_type": "markdown",
   "id": "4bbb6639",
   "metadata": {},
   "source": [
    "![ alt text for screen readers](1.png \"Text to show on mouseover\") "
   ]
  },
  {
   "cell_type": "markdown",
   "id": "e02dfd59",
   "metadata": {},
   "source": [
    "#### SVM"
   ]
  },
  {
   "cell_type": "markdown",
   "id": "b0b82eb5",
   "metadata": {},
   "source": [
    "![ alt text for screen readers](2.png \"Text to show on mouseover\") "
   ]
  },
  {
   "cell_type": "markdown",
   "id": "25f19843",
   "metadata": {},
   "source": [
    "#### Decision Tree"
   ]
  },
  {
   "cell_type": "markdown",
   "id": "b60d1548",
   "metadata": {},
   "source": [
    "![ alt text for screen readers](3.png \"Text to show on mouseover\") "
   ]
  },
  {
   "cell_type": "markdown",
   "id": "9ed84958",
   "metadata": {},
   "source": [
    "### Conclusion"
   ]
  },
  {
   "cell_type": "markdown",
   "id": "b6d216ee",
   "metadata": {},
   "source": [
    "Throughout this project we automated text classification techniques to classify hate speech and offensive tweets . We have used several classification algorithms to train over our dataset - Logistic Regression, Decision Tree, SVM, and Ensemble model. Among them SVM has the best accuracy while Decision Tree and Logistic Regression has the worst performance results."
   ]
  },
  {
   "cell_type": "code",
   "execution_count": null,
   "id": "54a48c9f",
   "metadata": {},
   "outputs": [],
   "source": []
  }
 ],
 "metadata": {
  "kernelspec": {
   "display_name": "Python 3 (ipykernel)",
   "language": "python",
   "name": "python3"
  },
  "language_info": {
   "codemirror_mode": {
    "name": "ipython",
    "version": 3
   },
   "file_extension": ".py",
   "mimetype": "text/x-python",
   "name": "python",
   "nbconvert_exporter": "python",
   "pygments_lexer": "ipython3",
   "version": "3.10.6"
  }
 },
 "nbformat": 4,
 "nbformat_minor": 5
}
